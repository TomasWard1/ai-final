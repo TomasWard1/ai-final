{
 "cells": [
  {
   "cell_type": "markdown",
   "metadata": {},
   "source": [
    " # **AI Machine Learning & Analitics Final Project**\n",
    "[poner todos los nombres]\n",
    "\n",
    "**Chosen topic**\n",
    "Image classification – Recognizing natural scenes\n",
    "\n",
    "*Building a classification system that recognizes when pictures include different \n",
    "elements of a city or nature based on previously labelled images.*"
   ]
  },
  {
   "cell_type": "markdown",
   "metadata": {},
   "source": [
    "### **Background information & analisis**\n",
    "- talk about multiclass classification (it's what we have to do)\n",
    "- talk about transfer learning and possible models we could fine tune and use for the project, apart from making it ourselves"
   ]
  },
  {
   "cell_type": "markdown",
   "metadata": {},
   "source": [
    "### **Code**"
   ]
  },
  {
   "cell_type": "code",
   "execution_count": 52,
   "metadata": {},
   "outputs": [],
   "source": [
    "# Imports\n",
    "import os\n",
    "import numpy as np\n",
    "import matplotlib.pyplot as plt\n",
    "from PIL import Image\n",
    "from tensorflow.keras.utils import to_categorical"
   ]
  },
  {
   "cell_type": "code",
   "execution_count": 53,
   "metadata": {},
   "outputs": [],
   "source": [
    "# Function to load labelled data from the source folders \n",
    "def load_images(data_dir):\n",
    "    labels = []\n",
    "    images = []\n",
    "    classes = sorted(os.listdir(data_dir))  # Get the folders/classes (labels)\n",
    "\n",
    "    # Loop through all folders\n",
    "    for idx, class_name in enumerate(classes):\n",
    "        class_folder = os.path.join(data_dir, class_name)\n",
    "        print('Loading class %s' %class_name)\n",
    "        \n",
    "        if os.path.isdir(class_folder):\n",
    "            # Loop through each image file within the class folder\n",
    "            for img_name in os.listdir(class_folder)[0:1000]:\n",
    "                img_path = os.path.join(class_folder, img_name)\n",
    "\n",
    "                try:\n",
    "                    # Load the image, resize it, and convert to a numpy array\n",
    "                    img = Image.open(img_path)\n",
    "                    img = img.resize((64,64)) # Resize in case there are images of different sizes and channels\n",
    "                    img_array = np.array(img)\n",
    "\n",
    "                    # Add the image to the list and its corresponding label (class index)\n",
    "                    images.append(img_array)\n",
    "                    labels.append(idx)\n",
    "                except Exception as e:\n",
    "                    print(f\"Error loading image {img_path}: {e}\")\n",
    "    \n",
    "    # Convert lists to numpy arrays\n",
    "    images = np.array(images)\n",
    "    labels = np.array(labels)\n",
    "    \n",
    "    return images, labels, classes"
   ]
  },
  {
   "cell_type": "code",
   "execution_count": 54,
   "metadata": {},
   "outputs": [
    {
     "name": "stdout",
     "output_type": "stream",
     "text": [
      "Loading class buildings\n",
      "Loading class forest\n",
      "Loading class glacier\n",
      "Loading class mountain\n",
      "Loading class sea\n",
      "Loading class street\n",
      "Loading class buildings\n",
      "Loading class forest\n",
      "Loading class glacier\n",
      "Loading class mountain\n",
      "Loading class sea\n",
      "Loading class street\n",
      "\n",
      "Loaded trian_images: (6000, 64, 64, 3)\n",
      "Loaded train_labels: (6000,)\n",
      "train_Classes: ['buildings', 'forest', 'glacier', 'mountain', 'sea', 'street']\n",
      "\n",
      "Loaded test_images: (3000, 64, 64, 3)\n",
      "Loaded test_labels: (3000,)\n",
      "test_Classes: ['buildings', 'forest', 'glacier', 'mountain', 'sea', 'street']\n"
     ]
    }
   ],
   "source": [
    "# Actually load the data from the folders\n",
    "data_dir_train = '../data/seg_train'\n",
    "data_dir_test = '../data/seg_test'\n",
    "\n",
    "x_train, y_train, train_classes = load_images(data_dir_train)\n",
    "x_test, y_test, test_classes = load_images(data_dir_test)\n",
    "\n",
    "print(f\"\\nLoaded trian_images: {x_train.shape}\")\n",
    "print(f\"Loaded train_labels: {y_train.shape}\")\n",
    "print(f\"train_Classes: {train_classes}\")\n",
    "\n",
    "print(f\"\\nLoaded test_images: {x_test.shape}\")\n",
    "print(f\"Loaded test_labels: {y_test.shape}\")\n",
    "print(f\"test_Classes: {test_classes}\")"
   ]
  },
  {
   "cell_type": "code",
   "execution_count": 55,
   "metadata": {},
   "outputs": [],
   "source": [
    "# Process the image data and labels\n",
    "\n",
    "# TODO: resize images to appropriate resolution\n",
    "\n",
    "# Normalization\n",
    "x_train, x_test = x_train / 255.0, x_test / 255.0\n",
    "\n",
    "# One hot encoding\n",
    "y_train = to_categorical(y_train, 6) # Classes: ['buildings', 'forest', 'glacier', 'mountain', 'sea', 'street']\n",
    "y_test = to_categorical(x_train, 6)"
   ]
  },
  {
   "cell_type": "code",
   "execution_count": 56,
   "metadata": {},
   "outputs": [
    {
     "name": "stdout",
     "output_type": "stream",
     "text": [
      "[1. 0. 0. 0. 0. 0.]\n"
     ]
    },
    {
     "data": {
      "image/png": "[encoded data removed]",
      "text/plain": [
       "<Figure size 640x480 with 1 Axes>"
      ]
     },
     "metadata": {},
     "output_type": "display_data"
    }
   ],
   "source": [
    "# Check if data is formatted correctly\n",
    "print(y_train[0]) #Shows the one hot encoding and classification of the first image\n",
    "\n",
    "plt.imshow(x_train[0])\n",
    "plt.axis('off')\n",
    "plt.show()"
   ]
  }
 ],
 "metadata": {
  "kernelspec": {
   "display_name": "deep-learning",
   "language": "python",
   "name": "python3"
  },
  "language_info": {
   "codemirror_mode": {
    "name": "ipython",
    "version": 3
   },
   "file_extension": ".py",
   "mimetype": "text/x-python",
   "name": "python",
   "nbconvert_exporter": "python",
   "pygments_lexer": "ipython3",
   "version": "3.12.7"
  }
 },
 "nbformat": 4,
 "nbformat_minor": 2
}
